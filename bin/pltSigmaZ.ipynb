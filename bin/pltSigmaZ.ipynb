{
 "cells": [
  {
   "cell_type": "code",
   "execution_count": 17,
   "metadata": {},
   "outputs": [],
   "source": [
    "filename = \"fout_sigma_z.txt\"\n",
    "\n",
    "klist = []\n",
    "Elist = []\n",
    "szlist = []\n",
    "kindex = -1\n",
    "Eindex = None\n",
    "with open(filename, 'r') as fin:\n",
    "    for line in fin:\n",
    "        if line[0] == 'k':\n",
    "            kindex += 1\n",
    "            klist.append(int(line.split(' ')[-1]))\n",
    "            Elist.append([])\n",
    "            szlist.append([])\n",
    "            Eindex = -1\n",
    "        elif line[0] == 'E':\n",
    "            Elist[kindex].append(float(line.split(' ')[-1]))\n",
    "            Eindex += 1\n",
    "            szlist[kindex].append([])\n",
    "        elif line[0] == 's':\n",
    "            continue\n",
    "        else:\n",
    "            szlist[kindex][Eindex].append(float(line.split(' ')[-1]))\n",
    "\n",
    "site_index = [i for i in range(len(szlist[0][0]))]\n",
    "\n",
    "import matplotlib.pyplot as plt"
   ]
  },
  {
   "cell_type": "code",
   "execution_count": 18,
   "metadata": {},
   "outputs": [
    {
     "data": {
      "text/plain": [
       "[<matplotlib.lines.Line2D at 0x7fe953a3b400>]"
      ]
     },
     "execution_count": 18,
     "metadata": {},
     "output_type": "execute_result"
    },
    {
     "data": {
      "image/png": "[encoded data removed]",
      "text/plain": [
       "<Figure size 432x288 with 1 Axes>"
      ]
     },
     "metadata": {
      "needs_background": "light"
     },
     "output_type": "display_data"
    }
   ],
   "source": [
    "%matplotlib inline\n",
    "plt.plot(site_index, szlist[0][8], '.')"
   ]
  },
  {
   "cell_type": "code",
   "execution_count": 19,
   "metadata": {},
   "outputs": [
    {
     "data": {
      "image/png": "[encoded data removed]",
      "text/plain": [
       "<Figure size 432x288 with 1 Axes>"
      ]
     },
     "metadata": {
      "needs_background": "light"
     },
     "output_type": "display_data"
    }
   ],
   "source": [
    "import numpy as np\n",
    "klist = np.array(klist)\n",
    "klist = 2.0 * np.pi * klist / len(klist)\n",
    "\n",
    "linelen = (klist[1]-klist[0])/2\n",
    "linelen /= 2\n",
    "import matplotlib.pyplot as plt\n",
    "\n",
    "ymin = np.inf\n",
    "ymax = -np.inf\n",
    "for i in range(len(klist)):\n",
    "    x1 = klist[i] - linelen\n",
    "    x2 = klist[i] + linelen\n",
    "    for y in Elist[i]:\n",
    "        plt.plot([x1, x2], [y, y], '-', color = 'b')\n",
    "        ymin = min(y, ymin)\n",
    "        ymax = max(y, ymax)\n",
    "    \n",
    "for k in klist:\n",
    "    plt.plot([k, k], [ymin, ymax], '--', color = 'red', linewidth=0.3)\n",
    "# plt.show()"
   ]
  }
 ],
 "metadata": {
  "interpreter": {
   "hash": "31f2aee4e71d21fbe5cf8b01ff0e069b9275f58929596ceb00d14d90e3e16cd6"
  },
  "kernelspec": {
   "display_name": "Python 3.8.10 64-bit",
   "language": "python",
   "name": "python3"
  },
  "language_info": {
   "codemirror_mode": {
    "name": "ipython",
    "version": 3
   },
   "file_extension": ".py",
   "mimetype": "text/x-python",
   "name": "python",
   "nbconvert_exporter": "python",
   "pygments_lexer": "ipython3",
   "version": "3.8.10"
  },
  "orig_nbformat": 4
 },
 "nbformat": 4,
 "nbformat_minor": 2
}
